{
 "cells": [
  {
   "cell_type": "code",
   "execution_count": 7,
   "id": "191fe315-8b94-43ae-87db-25cd4bd60295",
   "metadata": {},
   "outputs": [],
   "source": [
    "from vv.vv import verification"
   ]
  },
  {
   "cell_type": "code",
   "execution_count": null,
   "id": "e6e49c0f-6801-489e-afd1-359e88095866",
   "metadata": {},
   "outputs": [],
   "source": [
    "verification()"
   ]
  },
  {
   "cell_type": "code",
   "execution_count": null,
   "id": "74d9e818-93d2-413d-bd63-dff74f2fc488",
   "metadata": {},
   "outputs": [],
   "source": []
  }
 ],
 "metadata": {
  "kernelspec": {
   "display_name": "Python 3 (ipykernel)",
   "language": "python",
   "name": "python3"
  },
  "language_info": {
   "codemirror_mode": {
    "name": "ipython",
    "version": 3
   },
   "file_extension": ".py",
   "mimetype": "text/x-python",
   "name": "python",
   "nbconvert_exporter": "python",
   "pygments_lexer": "ipython3",
   "version": "3.9.13"
  }
 },
 "nbformat": 4,
 "nbformat_minor": 5
}
